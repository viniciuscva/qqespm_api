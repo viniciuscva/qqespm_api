{
 "cells": [
  {
   "cell_type": "code",
   "execution_count": 1,
   "metadata": {},
   "outputs": [],
   "source": [
    "import qqespm_module as qq"
   ]
  },
  {
   "cell_type": "code",
   "execution_count": 2,
   "metadata": {},
   "outputs": [],
   "source": [
    "v1 = qq.SpatialVertex(0, 'school')\n",
    "v2 = qq.SpatialVertex(1, 'bakery')\n",
    "v3 = qq.SpatialVertex(2, 'restaurant')\n",
    "\n",
    "e23 = qq.SpatialEdge('1-2', v2, v3, 356, 2918, '>')\n",
    "e12 = qq.SpatialEdge('0-1', v1, v2, 0, 1000)\n",
    "\n",
    "sp = qq.SpatialPatternGraph([v1,v2,v3], [e23, e12])"
   ]
  },
  {
   "cell_type": "code",
   "execution_count": 3,
   "metadata": {},
   "outputs": [
    {
     "name": "stdout",
     "output_type": "stream",
     "text": [
      "{\n",
      "  \"vertices\": [\n",
      "    {\n",
      "      \"id\": 0,\n",
      "      \"keyword\": \"school\"\n",
      "    },\n",
      "    {\n",
      "      \"id\": 1,\n",
      "      \"keyword\": \"bakery\"\n",
      "    },\n",
      "    {\n",
      "      \"id\": 2,\n",
      "      \"keyword\": \"restaurant\"\n",
      "    }\n",
      "  ],\n",
      "  \"edges\": [\n",
      "    {\n",
      "      \"id\": \"0-1\",\n",
      "      \"vi\": 0,\n",
      "      \"vj\": 1,\n",
      "      \"lij\": 0,\n",
      "      \"uij\": 1000,\n",
      "      \"sign\": \"-\",\n",
      "      \"relation\": null\n",
      "    },\n",
      "    {\n",
      "      \"id\": \"1-2\",\n",
      "      \"vi\": 1,\n",
      "      \"vj\": 2,\n",
      "      \"lij\": 356,\n",
      "      \"uij\": 2918,\n",
      "      \"sign\": \">\",\n",
      "      \"relation\": null\n",
      "    }\n",
      "  ]\n",
      "}\n"
     ]
    }
   ],
   "source": [
    "print(sp.to_json(indent = 2))"
   ]
  },
  {
   "cell_type": "code",
   "execution_count": 4,
   "metadata": {},
   "outputs": [
    {
     "name": "stdout",
     "output_type": "stream",
     "text": [
      "{\"vertices\": [{\"id\": 0, \"keyword\": \"school\"}, {\"id\": 1, \"keyword\": \"bakery\"}, {\"id\": 2, \"keyword\": \"restaurant\"}], \"edges\": [{\"id\": \"0-1\", \"vi\": 0, \"vj\": 1, \"lij\": 0, \"uij\": 1000, \"sign\": \"-\", \"relation\": null}, {\"id\": \"1-2\", \"vi\": 1, \"vj\": 2, \"lij\": 356, \"uij\": 2918, \"sign\": \">\", \"relation\": null}]}\n"
     ]
    }
   ],
   "source": [
    "print(sp.to_json())"
   ]
  },
  {
   "cell_type": "code",
   "execution_count": null,
   "metadata": {},
   "outputs": [],
   "source": []
  }
 ],
 "metadata": {
  "kernelspec": {
   "display_name": "base",
   "language": "python",
   "name": "python3"
  },
  "language_info": {
   "codemirror_mode": {
    "name": "ipython",
    "version": 3
   },
   "file_extension": ".py",
   "mimetype": "text/x-python",
   "name": "python",
   "nbconvert_exporter": "python",
   "pygments_lexer": "ipython3",
   "version": "3.11.5"
  }
 },
 "nbformat": 4,
 "nbformat_minor": 2
}
